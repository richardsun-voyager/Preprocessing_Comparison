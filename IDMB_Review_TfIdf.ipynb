{
 "cells": [
  {
   "cell_type": "code",
   "execution_count": 1,
   "metadata": {
    "collapsed": true
   },
   "outputs": [],
   "source": [
    "from gensim import utils\n",
    "import numpy as np\n",
    "from matplotlib import pyplot as plt\n",
    "import pandas as pd\n",
    "%matplotlib inline"
   ]
  },
  {
   "cell_type": "markdown",
   "metadata": {},
   "source": [
    "## Get Data"
   ]
  },
  {
   "cell_type": "code",
   "execution_count": 30,
   "metadata": {
    "collapsed": true
   },
   "outputs": [],
   "source": [
    "train_data = pd.read_csv('data/IMDB_review_train.csv')\n",
    "test_data = pd.read_csv('data/IMDB_review_test.csv')"
   ]
  },
  {
   "cell_type": "code",
   "execution_count": 31,
   "metadata": {
    "collapsed": true
   },
   "outputs": [],
   "source": [
    "train_texts = train_data.text\n",
    "train_labels = train_data.sentiment\n",
    "test_texts = test_data.text\n",
    "test_labels = test_data.sentiment"
   ]
  },
  {
   "cell_type": "code",
   "execution_count": 33,
   "metadata": {
    "collapsed": false
   },
   "outputs": [
    {
     "data": {
      "text/plain": [
       "'bromwell high is a cartoon comedy it ran at the same time as some other programs about school life such as teachers my years in the teaching profession lead me to believe that bromwell high s satire is much closer to reality than is teachers the scramble to survive financially the insightful students who can see right through their pathetic teachers pomp the pettiness of the whole situation all remind me of the schools i knew and their students when i saw the episode in which a student repeatedly tried to burn down the school i immediately recalled at high a classic line inspector i m here to sack one of your teachers student welcome to bromwell high i expect that many adults of my age think that bromwell high is far fetched what a pity that it isn t \\n'"
      ]
     },
     "execution_count": 33,
     "metadata": {},
     "output_type": "execute_result"
    }
   ],
   "source": [
    "train_texts[0]"
   ]
  },
  {
   "cell_type": "code",
   "execution_count": 4,
   "metadata": {
    "collapsed": false
   },
   "outputs": [
    {
     "data": {
      "text/plain": [
       "12500"
      ]
     },
     "execution_count": 4,
     "metadata": {},
     "output_type": "execute_result"
    }
   ],
   "source": [
    "sum(train_labels)"
   ]
  },
  {
   "cell_type": "code",
   "execution_count": 5,
   "metadata": {
    "collapsed": true
   },
   "outputs": [],
   "source": [
    "#shuffle the data\n",
    "data = list(zip(train_texts, train_labels))\n",
    "np.random.shuffle(data)"
   ]
  },
  {
   "cell_type": "code",
   "execution_count": 6,
   "metadata": {
    "collapsed": true
   },
   "outputs": [],
   "source": [
    "train_texts, train_labels = zip(*data)"
   ]
  },
  {
   "cell_type": "markdown",
   "metadata": {},
   "source": [
    "## Explore Data"
   ]
  },
  {
   "cell_type": "code",
   "execution_count": 7,
   "metadata": {
    "collapsed": true
   },
   "outputs": [],
   "source": [
    "word_lens = [len(item.split()) for item in train_texts]"
   ]
  },
  {
   "cell_type": "code",
   "execution_count": 8,
   "metadata": {
    "collapsed": false
   },
   "outputs": [
    {
     "data": {
      "text/plain": [
       "106"
      ]
     },
     "execution_count": 8,
     "metadata": {},
     "output_type": "execute_result"
    }
   ],
   "source": [
    "sum(np.array(word_lens) > 1000)"
   ]
  },
  {
   "cell_type": "code",
   "execution_count": 9,
   "metadata": {
    "collapsed": false
   },
   "outputs": [
    {
     "data": {
      "text/plain": [
       "array([  10.,  129.,  177.,  287.,  608.])"
      ]
     },
     "execution_count": 9,
     "metadata": {},
     "output_type": "execute_result"
    }
   ],
   "source": [
    "np.percentile(word_lens, [0, 25, 50, 75, 95])"
   ]
  },
  {
   "cell_type": "code",
   "execution_count": 10,
   "metadata": {
    "collapsed": false
   },
   "outputs": [
    {
     "data": {
      "text/plain": [
       "Text(0.5,1,'Text Length')"
      ]
     },
     "execution_count": 10,
     "metadata": {},
     "output_type": "execute_result"
    },
    {
     "data": {
      "image/png": "[encoded data removed]",
      "text/plain": [
       "<Figure size 432x288 with 1 Axes>"
      ]
     },
     "metadata": {},
     "output_type": "display_data"
    }
   ],
   "source": [
    "plt.hist(word_lens)\n",
    "plt.title('Text Length')"
   ]
  },
  {
   "cell_type": "code",
   "execution_count": 11,
   "metadata": {
    "collapsed": true
   },
   "outputs": [],
   "source": [
    "from sklearn.model_selection import learning_curve\n",
    "from sklearn.model_selection import ShuffleSplit\n",
    "\n",
    "\n",
    "def plot_learning_curve(estimator, title, X, y, ylim=None, cv=None,\n",
    "                        n_jobs=1, train_sizes=np.linspace(0.3, 1.0, 5)):\n",
    "    \"\"\"\n",
    "    Generate a simple plot of the test and training learning curve.\n",
    "\n",
    "    Parameters\n",
    "    ----------\n",
    "    estimator : object type that implements the \"fit\" and \"predict\" methods\n",
    "        An object of that type which is cloned for each validation.\n",
    "\n",
    "    title : string\n",
    "        Title for the chart.\n",
    "\n",
    "    X : array-like, shape (n_samples, n_features)\n",
    "        Training vector, where n_samples is the number of samples and\n",
    "        n_features is the number of features.\n",
    "\n",
    "    y : array-like, shape (n_samples) or (n_samples, n_features), optional\n",
    "        Target relative to X for classification or regression;\n",
    "        None for unsupervised learning.\n",
    "\n",
    "    ylim : tuple, shape (ymin, ymax), optional\n",
    "        Defines minimum and maximum yvalues plotted.\n",
    "\n",
    "    cv : int, cross-validation generator or an iterable, optional\n",
    "        Determines the cross-validation splitting strategy.\n",
    "        Possible inputs for cv are:\n",
    "          - None, to use the default 3-fold cross-validation,\n",
    "          - integer, to specify the number of folds.\n",
    "          - An object to be used as a cross-validation generator.\n",
    "          - An iterable yielding train/test splits.\n",
    "\n",
    "        For integer/None inputs, if ``y`` is binary or multiclass,\n",
    "        :class:`StratifiedKFold` used. If the estimator is not a classifier\n",
    "        or if ``y`` is neither binary nor multiclass, :class:`KFold` is used.\n",
    "\n",
    "        Refer :ref:`User Guide <cross_validation>` for the various\n",
    "        cross-validators that can be used here.\n",
    "\n",
    "    n_jobs : integer, optional\n",
    "        Number of jobs to run in parallel (default 1).\n",
    "    \"\"\"\n",
    "    plt.figure()\n",
    "    plt.title(title)\n",
    "    if ylim is not None:\n",
    "        plt.ylim(*ylim)\n",
    "    plt.xlabel(\"Training examples\")\n",
    "    plt.ylabel(\"Score\")\n",
    "    train_sizes, train_scores, test_scores = learning_curve(\n",
    "        estimator, X, y, cv=cv, n_jobs=n_jobs, train_sizes=train_sizes)\n",
    "    train_scores_mean = np.mean(train_scores, axis=1)\n",
    "    train_scores_std = np.std(train_scores, axis=1)\n",
    "    test_scores_mean = np.mean(test_scores, axis=1)\n",
    "    test_scores_std = np.std(test_scores, axis=1)\n",
    "    plt.grid()\n",
    "\n",
    "    plt.fill_between(train_sizes, train_scores_mean - train_scores_std,\n",
    "                     train_scores_mean + train_scores_std, alpha=0.1,\n",
    "                     color=\"r\")\n",
    "    plt.fill_between(train_sizes, test_scores_mean - test_scores_std,\n",
    "                     test_scores_mean + test_scores_std, alpha=0.1, color=\"g\")\n",
    "    plt.plot(train_sizes, train_scores_mean, 'o-', color=\"r\",\n",
    "             label=\"Training score\")\n",
    "    plt.plot(train_sizes, test_scores_mean, 'o-', color=\"g\",\n",
    "             label=\"Cross-validation score\")\n",
    "\n",
    "    plt.legend(loc=\"best\")\n",
    "    return plt"
   ]
  },
  {
   "cell_type": "markdown",
   "metadata": {},
   "source": [
    "## TfIdf+Unigram+Logistic Regression"
   ]
  },
  {
   "cell_type": "markdown",
   "metadata": {},
   "source": [
    "### Logistic Regression"
   ]
  },
  {
   "cell_type": "code",
   "execution_count": 18,
   "metadata": {
    "collapsed": true
   },
   "outputs": [],
   "source": [
    "from sklearn.feature_extraction.text import TfidfVectorizer\n",
    "vectorizer = TfidfVectorizer()\n",
    "X_train = vectorizer.fit_transform(train_texts)\n",
    "X_test = vectorizer.transform(test_texts)"
   ]
  },
  {
   "cell_type": "code",
   "execution_count": 19,
   "metadata": {
    "collapsed": true
   },
   "outputs": [],
   "source": [
    "from sklearn.linear_model import LogisticRegression\n",
    "train_accuracy = []\n",
    "test_accuracy = []\n",
    "parameters = np.arange(0.5, 3, 0.5)\n",
    "for c in parameters:\n",
    "    classifier = LogisticRegression(C=c)\n",
    "    classifier.fit(X_train, train_labels)\n",
    "    train_score = classifier.score(X_train, train_labels)\n",
    "    test_score = classifier.score(X_test, test_labels)\n",
    "    train_accuracy.append(train_score)\n",
    "    test_accuracy.append(test_score)"
   ]
  },
  {
   "cell_type": "code",
   "execution_count": 20,
   "metadata": {
    "collapsed": false
   },
   "outputs": [
    {
     "data": {
      "text/plain": [
       "0.88648000000000005"
      ]
     },
     "execution_count": 20,
     "metadata": {},
     "output_type": "execute_result"
    }
   ],
   "source": [
    "max(test_accuracy)"
   ]
  },
  {
   "cell_type": "code",
   "execution_count": 21,
   "metadata": {
    "collapsed": false
   },
   "outputs": [
    {
     "data": {
      "image/png": "[encoded data removed]",
      "text/plain": [
       "<Figure size 432x288 with 1 Axes>"
      ]
     },
     "metadata": {},
     "output_type": "display_data"
    }
   ],
   "source": [
    "plt.scatter(parameters, train_accuracy, c='r')\n",
    "plt.scatter(parameters, test_accuracy, c='b')\n",
    "plt.title('Training and Testing Performances for LR')\n",
    "plt.xlabel('C')\n",
    "plt.ylabel('Accuracy')\n",
    "plt.ylim([0.8, 1])\n",
    "plt.show()"
   ]
  },
  {
   "cell_type": "code",
   "execution_count": 22,
   "metadata": {
    "collapsed": false
   },
   "outputs": [
    {
     "data": {
      "text/plain": [
       "<module 'matplotlib.pyplot' from '/Users/richardsun/anaconda3/lib/python3.6/site-packages/matplotlib/pyplot.py'>"
      ]
     },
     "execution_count": 22,
     "metadata": {},
     "output_type": "execute_result"
    },
    {
     "data": {
      "image/png": "[encoded data removed]",
      "text/plain": [
       "<Figure size 432x288 with 1 Axes>"
      ]
     },
     "metadata": {},
     "output_type": "display_data"
    }
   ],
   "source": [
    "plot_learning_curve(estimator=classifier, title='Logistic Regression Performance',\n",
    "                    X=X_train, y=train_labels, cv=5)"
   ]
  },
  {
   "cell_type": "code",
   "execution_count": 23,
   "metadata": {
    "collapsed": true
   },
   "outputs": [],
   "source": [
    "from sklearn.naive_bayes import MultinomialNB\n",
    "train_accuracy = []\n",
    "test_accuracy = []\n",
    "parameters = np.arange(0.1, 3, 0.2)\n",
    "for c in parameters:\n",
    "    classifier = MultinomialNB(alpha=c)\n",
    "    classifier.fit(X_train, train_labels)\n",
    "    train_score = classifier.score(X_train, train_labels)\n",
    "    test_score = classifier.score(X_test, test_labels)\n",
    "    train_accuracy.append(train_score)\n",
    "    test_accuracy.append(test_score)"
   ]
  },
  {
   "cell_type": "code",
   "execution_count": 24,
   "metadata": {
    "collapsed": false
   },
   "outputs": [
    {
     "data": {
      "text/plain": [
       "0.83291999999999999"
      ]
     },
     "execution_count": 24,
     "metadata": {},
     "output_type": "execute_result"
    }
   ],
   "source": [
    "max(test_accuracy)"
   ]
  },
  {
   "cell_type": "code",
   "execution_count": 25,
   "metadata": {
    "collapsed": false
   },
   "outputs": [
    {
     "data": {
      "image/png": "[encoded data removed]",
      "text/plain": [
       "<Figure size 432x288 with 1 Axes>"
      ]
     },
     "metadata": {},
     "output_type": "display_data"
    }
   ],
   "source": [
    "plt.scatter(parameters, train_accuracy, c='r')\n",
    "plt.scatter(parameters, test_accuracy, c='b')\n",
    "plt.title('Training and Testing Performances for NB')\n",
    "plt.xlabel('Alpha')\n",
    "plt.ylabel('Accuracy')\n",
    "plt.ylim([0.8, 1])\n",
    "plt.show()"
   ]
  },
  {
   "cell_type": "markdown",
   "metadata": {},
   "source": [
    "### Randomforest"
   ]
  },
  {
   "cell_type": "code",
   "execution_count": 113,
   "metadata": {
    "collapsed": true
   },
   "outputs": [],
   "source": [
    "from sklearn.model_selection import GridSearchCV\n",
    "from sklearn.ensemble import AdaBoostClassifier, RandomForestClassifier\n",
    "parameters = {'max_depth':[2, 3, 4, 5, 6, 7, 8], \n",
    "              'n_estimators':[10, 20, 30 ,40, 50]}\n",
    "rf = RandomForestClassifier(n_jobs=4)\n",
    "gridsearch = GridSearchCV(rf, parameters, cv=5)"
   ]
  },
  {
   "cell_type": "code",
   "execution_count": 106,
   "metadata": {
    "collapsed": false
   },
   "outputs": [
    {
     "data": {
      "text/plain": [
       "GridSearchCV(cv=5, error_score='raise',\n",
       "       estimator=RandomForestClassifier(bootstrap=True, class_weight=None, criterion='gini',\n",
       "            max_depth=None, max_features='auto', max_leaf_nodes=None,\n",
       "            min_impurity_decrease=0.0, min_impurity_split=None,\n",
       "            min_samples_leaf=1, min_samples_split=2,\n",
       "            min_weight_fraction_leaf=0.0, n_estimators=10, n_jobs=4,\n",
       "            oob_score=False, random_state=None, verbose=0,\n",
       "            warm_start=False),\n",
       "       fit_params=None, iid=True, n_jobs=1,\n",
       "       param_grid={'max_depth': [2, 3, 4, 5, 6, 7, 8], 'n_estimators': [10, 20, 30, 40, 50]},\n",
       "       pre_dispatch='2*n_jobs', refit=True, return_train_score='warn',\n",
       "       scoring=None, verbose=0)"
      ]
     },
     "execution_count": 106,
     "metadata": {},
     "output_type": "execute_result"
    }
   ],
   "source": [
    "gridsearch.fit(X_train, train_labels)"
   ]
  },
  {
   "cell_type": "code",
   "execution_count": 107,
   "metadata": {
    "collapsed": false
   },
   "outputs": [
    {
     "data": {
      "text/plain": [
       "0.78456000000000004"
      ]
     },
     "execution_count": 107,
     "metadata": {},
     "output_type": "execute_result"
    }
   ],
   "source": [
    "gridsearch.score(X_test, test_labels)"
   ]
  },
  {
   "cell_type": "markdown",
   "metadata": {},
   "source": [
    "### Lightgbm"
   ]
  },
  {
   "cell_type": "code",
   "execution_count": 134,
   "metadata": {
    "collapsed": true
   },
   "outputs": [],
   "source": [
    "import lightgbm as lgb\n",
    "train_lgbdata = lgb.Dataset(X_train, label=np.array(train_labels))\n",
    "test_lgbdata = lgb.Dataset(X_test, label=test_labels.values)"
   ]
  },
  {
   "cell_type": "code",
   "execution_count": 161,
   "metadata": {
    "collapsed": false
   },
   "outputs": [
    {
     "name": "stderr",
     "output_type": "stream",
     "text": [
      "/Users/richardsun/anaconda3/lib/python3.6/site-packages/lightgbm/engine.py:98: UserWarning: Found `num_iterations` in params. Will use it instead of argument\n",
      "  warnings.warn(\"Found `{}` in params. Will use it instead of argument\".format(alias))\n"
     ]
    },
    {
     "name": "stdout",
     "output_type": "stream",
     "text": [
      "[1]\tvalid_0's auc: 0.813993\n",
      "[2]\tvalid_0's auc: 0.829287\n",
      "[3]\tvalid_0's auc: 0.836596\n",
      "[4]\tvalid_0's auc: 0.843293\n",
      "[5]\tvalid_0's auc: 0.84843\n",
      "[6]\tvalid_0's auc: 0.854426\n",
      "[7]\tvalid_0's auc: 0.857174\n",
      "[8]\tvalid_0's auc: 0.859592\n",
      "[9]\tvalid_0's auc: 0.862892\n",
      "[10]\tvalid_0's auc: 0.865627\n",
      "[11]\tvalid_0's auc: 0.869521\n",
      "[12]\tvalid_0's auc: 0.872408\n",
      "[13]\tvalid_0's auc: 0.8771\n",
      "[14]\tvalid_0's auc: 0.879394\n",
      "[15]\tvalid_0's auc: 0.88181\n",
      "[16]\tvalid_0's auc: 0.884037\n",
      "[17]\tvalid_0's auc: 0.886284\n",
      "[18]\tvalid_0's auc: 0.888357\n",
      "[19]\tvalid_0's auc: 0.890658\n",
      "[20]\tvalid_0's auc: 0.892727\n",
      "[21]\tvalid_0's auc: 0.895161\n",
      "[22]\tvalid_0's auc: 0.89682\n",
      "[23]\tvalid_0's auc: 0.89888\n",
      "[24]\tvalid_0's auc: 0.900734\n",
      "[25]\tvalid_0's auc: 0.90216\n",
      "[26]\tvalid_0's auc: 0.903557\n",
      "[27]\tvalid_0's auc: 0.905345\n",
      "[28]\tvalid_0's auc: 0.906611\n",
      "[29]\tvalid_0's auc: 0.907748\n",
      "[30]\tvalid_0's auc: 0.909167\n",
      "[31]\tvalid_0's auc: 0.910515\n",
      "[32]\tvalid_0's auc: 0.911836\n",
      "[33]\tvalid_0's auc: 0.91311\n",
      "[34]\tvalid_0's auc: 0.914072\n",
      "[35]\tvalid_0's auc: 0.915107\n",
      "[36]\tvalid_0's auc: 0.916365\n",
      "[37]\tvalid_0's auc: 0.917303\n",
      "[38]\tvalid_0's auc: 0.918165\n",
      "[39]\tvalid_0's auc: 0.919267\n",
      "[40]\tvalid_0's auc: 0.920068\n",
      "[41]\tvalid_0's auc: 0.921272\n",
      "[42]\tvalid_0's auc: 0.921989\n",
      "[43]\tvalid_0's auc: 0.922715\n",
      "[44]\tvalid_0's auc: 0.92335\n",
      "[45]\tvalid_0's auc: 0.924227\n",
      "[46]\tvalid_0's auc: 0.924758\n",
      "[47]\tvalid_0's auc: 0.925511\n",
      "[48]\tvalid_0's auc: 0.925967\n",
      "[49]\tvalid_0's auc: 0.926691\n",
      "[50]\tvalid_0's auc: 0.927469\n",
      "[51]\tvalid_0's auc: 0.927908\n",
      "[52]\tvalid_0's auc: 0.928412\n",
      "[53]\tvalid_0's auc: 0.92898\n",
      "[54]\tvalid_0's auc: 0.929817\n",
      "[55]\tvalid_0's auc: 0.930538\n",
      "[56]\tvalid_0's auc: 0.930955\n",
      "[57]\tvalid_0's auc: 0.931571\n",
      "[58]\tvalid_0's auc: 0.932001\n",
      "[59]\tvalid_0's auc: 0.932505\n",
      "[60]\tvalid_0's auc: 0.932994\n",
      "[61]\tvalid_0's auc: 0.933524\n",
      "[62]\tvalid_0's auc: 0.934042\n",
      "[63]\tvalid_0's auc: 0.934468\n",
      "[64]\tvalid_0's auc: 0.934904\n",
      "[65]\tvalid_0's auc: 0.935336\n",
      "[66]\tvalid_0's auc: 0.935644\n",
      "[67]\tvalid_0's auc: 0.936\n",
      "[68]\tvalid_0's auc: 0.936366\n",
      "[69]\tvalid_0's auc: 0.93677\n",
      "[70]\tvalid_0's auc: 0.937325\n",
      "[71]\tvalid_0's auc: 0.937683\n",
      "[72]\tvalid_0's auc: 0.937966\n",
      "[73]\tvalid_0's auc: 0.938243\n",
      "[74]\tvalid_0's auc: 0.938483\n",
      "[75]\tvalid_0's auc: 0.938822\n",
      "[76]\tvalid_0's auc: 0.939167\n",
      "[77]\tvalid_0's auc: 0.939429\n",
      "[78]\tvalid_0's auc: 0.939778\n",
      "[79]\tvalid_0's auc: 0.94\n",
      "[80]\tvalid_0's auc: 0.940293\n",
      "[81]\tvalid_0's auc: 0.940481\n",
      "[82]\tvalid_0's auc: 0.94083\n",
      "[83]\tvalid_0's auc: 0.941149\n",
      "[84]\tvalid_0's auc: 0.94138\n",
      "[85]\tvalid_0's auc: 0.941598\n",
      "[86]\tvalid_0's auc: 0.941886\n",
      "[87]\tvalid_0's auc: 0.942109\n",
      "[88]\tvalid_0's auc: 0.942443\n",
      "[89]\tvalid_0's auc: 0.942632\n",
      "[90]\tvalid_0's auc: 0.942857\n",
      "[91]\tvalid_0's auc: 0.94303\n",
      "[92]\tvalid_0's auc: 0.943307\n",
      "[93]\tvalid_0's auc: 0.943374\n",
      "[94]\tvalid_0's auc: 0.943552\n",
      "[95]\tvalid_0's auc: 0.94373\n",
      "[96]\tvalid_0's auc: 0.943898\n",
      "[97]\tvalid_0's auc: 0.94405\n",
      "[98]\tvalid_0's auc: 0.944261\n",
      "[99]\tvalid_0's auc: 0.944413\n",
      "[100]\tvalid_0's auc: 0.944579\n",
      "[101]\tvalid_0's auc: 0.944693\n",
      "[102]\tvalid_0's auc: 0.944801\n",
      "[103]\tvalid_0's auc: 0.944888\n",
      "[104]\tvalid_0's auc: 0.945029\n",
      "[105]\tvalid_0's auc: 0.945111\n",
      "[106]\tvalid_0's auc: 0.94524\n",
      "[107]\tvalid_0's auc: 0.945298\n",
      "[108]\tvalid_0's auc: 0.945396\n",
      "[109]\tvalid_0's auc: 0.945547\n",
      "[110]\tvalid_0's auc: 0.945606\n",
      "[111]\tvalid_0's auc: 0.945719\n",
      "[112]\tvalid_0's auc: 0.945829\n",
      "[113]\tvalid_0's auc: 0.945923\n",
      "[114]\tvalid_0's auc: 0.946026\n",
      "[115]\tvalid_0's auc: 0.946128\n",
      "[116]\tvalid_0's auc: 0.946239\n",
      "[117]\tvalid_0's auc: 0.94629\n",
      "[118]\tvalid_0's auc: 0.946401\n",
      "[119]\tvalid_0's auc: 0.946474\n",
      "[120]\tvalid_0's auc: 0.946612\n",
      "[121]\tvalid_0's auc: 0.946682\n",
      "[122]\tvalid_0's auc: 0.946797\n",
      "[123]\tvalid_0's auc: 0.946867\n",
      "[124]\tvalid_0's auc: 0.946966\n",
      "[125]\tvalid_0's auc: 0.947125\n",
      "[126]\tvalid_0's auc: 0.947198\n",
      "[127]\tvalid_0's auc: 0.947272\n",
      "[128]\tvalid_0's auc: 0.947237\n",
      "[129]\tvalid_0's auc: 0.947268\n",
      "[130]\tvalid_0's auc: 0.947364\n",
      "[131]\tvalid_0's auc: 0.947438\n",
      "[132]\tvalid_0's auc: 0.947582\n",
      "[133]\tvalid_0's auc: 0.947691\n",
      "[134]\tvalid_0's auc: 0.947727\n",
      "[135]\tvalid_0's auc: 0.947789\n",
      "[136]\tvalid_0's auc: 0.947892\n",
      "[137]\tvalid_0's auc: 0.948005\n",
      "[138]\tvalid_0's auc: 0.948061\n",
      "[139]\tvalid_0's auc: 0.948154\n",
      "[140]\tvalid_0's auc: 0.948176\n",
      "[141]\tvalid_0's auc: 0.948202\n",
      "[142]\tvalid_0's auc: 0.948261\n",
      "[143]\tvalid_0's auc: 0.948329\n",
      "[144]\tvalid_0's auc: 0.948384\n",
      "[145]\tvalid_0's auc: 0.948427\n",
      "[146]\tvalid_0's auc: 0.948507\n",
      "[147]\tvalid_0's auc: 0.94859\n",
      "[148]\tvalid_0's auc: 0.948587\n",
      "[149]\tvalid_0's auc: 0.948697\n",
      "[150]\tvalid_0's auc: 0.948783\n",
      "[151]\tvalid_0's auc: 0.948862\n",
      "[152]\tvalid_0's auc: 0.948883\n",
      "[153]\tvalid_0's auc: 0.948947\n",
      "[154]\tvalid_0's auc: 0.948968\n",
      "[155]\tvalid_0's auc: 0.949036\n",
      "[156]\tvalid_0's auc: 0.949057\n",
      "[157]\tvalid_0's auc: 0.949067\n",
      "[158]\tvalid_0's auc: 0.949112\n",
      "[159]\tvalid_0's auc: 0.949177\n",
      "[160]\tvalid_0's auc: 0.949187\n",
      "[161]\tvalid_0's auc: 0.949215\n",
      "[162]\tvalid_0's auc: 0.949294\n",
      "[163]\tvalid_0's auc: 0.949367\n",
      "[164]\tvalid_0's auc: 0.949409\n",
      "[165]\tvalid_0's auc: 0.949409\n",
      "[166]\tvalid_0's auc: 0.94942\n",
      "[167]\tvalid_0's auc: 0.949456\n",
      "[168]\tvalid_0's auc: 0.949524\n",
      "[169]\tvalid_0's auc: 0.949539\n",
      "[170]\tvalid_0's auc: 0.949588\n",
      "[171]\tvalid_0's auc: 0.949626\n",
      "[172]\tvalid_0's auc: 0.94964\n",
      "[173]\tvalid_0's auc: 0.949593\n",
      "[174]\tvalid_0's auc: 0.949616\n",
      "[175]\tvalid_0's auc: 0.949635\n",
      "[176]\tvalid_0's auc: 0.949697\n",
      "[177]\tvalid_0's auc: 0.949759\n",
      "[178]\tvalid_0's auc: 0.949788\n",
      "[179]\tvalid_0's auc: 0.949787\n",
      "[180]\tvalid_0's auc: 0.949826\n",
      "[181]\tvalid_0's auc: 0.949844\n",
      "[182]\tvalid_0's auc: 0.949888\n",
      "[183]\tvalid_0's auc: 0.949933\n",
      "[184]\tvalid_0's auc: 0.950021\n",
      "[185]\tvalid_0's auc: 0.950073\n",
      "[186]\tvalid_0's auc: 0.950069\n",
      "[187]\tvalid_0's auc: 0.950067\n",
      "[188]\tvalid_0's auc: 0.950095\n",
      "[189]\tvalid_0's auc: 0.950142\n",
      "[190]\tvalid_0's auc: 0.95016\n",
      "[191]\tvalid_0's auc: 0.950213\n",
      "[192]\tvalid_0's auc: 0.950192\n",
      "[193]\tvalid_0's auc: 0.950189\n",
      "[194]\tvalid_0's auc: 0.950228\n",
      "[195]\tvalid_0's auc: 0.950224\n",
      "[196]\tvalid_0's auc: 0.95025\n",
      "[197]\tvalid_0's auc: 0.950317\n",
      "[198]\tvalid_0's auc: 0.950331\n",
      "[199]\tvalid_0's auc: 0.950397\n",
      "[200]\tvalid_0's auc: 0.950405\n",
      "[201]\tvalid_0's auc: 0.950461\n",
      "[202]\tvalid_0's auc: 0.950472\n",
      "[203]\tvalid_0's auc: 0.950489\n",
      "[204]\tvalid_0's auc: 0.95052\n",
      "[205]\tvalid_0's auc: 0.950522\n",
      "[206]\tvalid_0's auc: 0.950593\n",
      "[207]\tvalid_0's auc: 0.950588\n",
      "[208]\tvalid_0's auc: 0.950608\n",
      "[209]\tvalid_0's auc: 0.950635\n",
      "[210]\tvalid_0's auc: 0.950661\n",
      "[211]\tvalid_0's auc: 0.950675\n",
      "[212]\tvalid_0's auc: 0.950695\n",
      "[213]\tvalid_0's auc: 0.950698\n",
      "[214]\tvalid_0's auc: 0.950743\n",
      "[215]\tvalid_0's auc: 0.950772\n",
      "[216]\tvalid_0's auc: 0.950773\n",
      "[217]\tvalid_0's auc: 0.950754\n",
      "[218]\tvalid_0's auc: 0.950773\n",
      "[219]\tvalid_0's auc: 0.950794\n",
      "[220]\tvalid_0's auc: 0.95084\n",
      "[221]\tvalid_0's auc: 0.950854\n",
      "[222]\tvalid_0's auc: 0.950863\n",
      "[223]\tvalid_0's auc: 0.950857\n",
      "[224]\tvalid_0's auc: 0.950898\n",
      "[225]\tvalid_0's auc: 0.950949\n",
      "[226]\tvalid_0's auc: 0.950964\n",
      "[227]\tvalid_0's auc: 0.950953\n",
      "[228]\tvalid_0's auc: 0.950939\n",
      "[229]\tvalid_0's auc: 0.950933\n",
      "[230]\tvalid_0's auc: 0.95096\n",
      "[231]\tvalid_0's auc: 0.950966\n",
      "[232]\tvalid_0's auc: 0.95102\n",
      "[233]\tvalid_0's auc: 0.95105\n",
      "[234]\tvalid_0's auc: 0.95105\n",
      "[235]\tvalid_0's auc: 0.951078\n",
      "[236]\tvalid_0's auc: 0.951081\n",
      "[237]\tvalid_0's auc: 0.951099\n",
      "[238]\tvalid_0's auc: 0.951148\n",
      "[239]\tvalid_0's auc: 0.951153\n",
      "[240]\tvalid_0's auc: 0.951145\n",
      "[241]\tvalid_0's auc: 0.951164\n",
      "[242]\tvalid_0's auc: 0.951193\n",
      "[243]\tvalid_0's auc: 0.951186\n",
      "[244]\tvalid_0's auc: 0.951178\n",
      "[245]\tvalid_0's auc: 0.951164\n",
      "[246]\tvalid_0's auc: 0.951189\n",
      "[247]\tvalid_0's auc: 0.951184\n",
      "[248]\tvalid_0's auc: 0.951221\n",
      "[249]\tvalid_0's auc: 0.951209\n",
      "[250]\tvalid_0's auc: 0.951214\n",
      "[251]\tvalid_0's auc: 0.951218\n",
      "[252]\tvalid_0's auc: 0.951233\n",
      "[253]\tvalid_0's auc: 0.951223\n",
      "[254]\tvalid_0's auc: 0.951201\n",
      "[255]\tvalid_0's auc: 0.951194\n",
      "[256]\tvalid_0's auc: 0.951219\n",
      "[257]\tvalid_0's auc: 0.951208\n",
      "[258]\tvalid_0's auc: 0.951203\n",
      "[259]\tvalid_0's auc: 0.951209\n",
      "[260]\tvalid_0's auc: 0.951242\n",
      "[261]\tvalid_0's auc: 0.951303\n",
      "[262]\tvalid_0's auc: 0.951328\n",
      "[263]\tvalid_0's auc: 0.95135\n",
      "[264]\tvalid_0's auc: 0.951343\n",
      "[265]\tvalid_0's auc: 0.951354\n",
      "[266]\tvalid_0's auc: 0.951348\n",
      "[267]\tvalid_0's auc: 0.951347\n",
      "[268]\tvalid_0's auc: 0.951361\n",
      "[269]\tvalid_0's auc: 0.951392\n",
      "[270]\tvalid_0's auc: 0.95138\n",
      "[271]\tvalid_0's auc: 0.951377\n",
      "[272]\tvalid_0's auc: 0.951398\n",
      "[273]\tvalid_0's auc: 0.951443\n",
      "[274]\tvalid_0's auc: 0.951406\n",
      "[275]\tvalid_0's auc: 0.951428\n",
      "[276]\tvalid_0's auc: 0.951451\n",
      "[277]\tvalid_0's auc: 0.951529\n",
      "[278]\tvalid_0's auc: 0.951539\n",
      "[279]\tvalid_0's auc: 0.951571\n",
      "[280]\tvalid_0's auc: 0.95159\n",
      "[281]\tvalid_0's auc: 0.951596\n",
      "[282]\tvalid_0's auc: 0.951633\n",
      "[283]\tvalid_0's auc: 0.951633\n",
      "[284]\tvalid_0's auc: 0.951665\n",
      "[285]\tvalid_0's auc: 0.951677\n",
      "[286]\tvalid_0's auc: 0.951691\n",
      "[287]\tvalid_0's auc: 0.951705\n",
      "[288]\tvalid_0's auc: 0.951726\n",
      "[289]\tvalid_0's auc: 0.951736\n",
      "[290]\tvalid_0's auc: 0.951761\n",
      "[291]\tvalid_0's auc: 0.951768\n",
      "[292]\tvalid_0's auc: 0.951788\n",
      "[293]\tvalid_0's auc: 0.951809\n",
      "[294]\tvalid_0's auc: 0.951827\n",
      "[295]\tvalid_0's auc: 0.951856\n",
      "[296]\tvalid_0's auc: 0.951864\n",
      "[297]\tvalid_0's auc: 0.951866\n",
      "[298]\tvalid_0's auc: 0.951845\n",
      "[299]\tvalid_0's auc: 0.951852\n",
      "[300]\tvalid_0's auc: 0.951912\n",
      "[301]\tvalid_0's auc: 0.951933\n",
      "[302]\tvalid_0's auc: 0.951954\n",
      "[303]\tvalid_0's auc: 0.951969\n",
      "[304]\tvalid_0's auc: 0.951975\n",
      "[305]\tvalid_0's auc: 0.951999\n",
      "[306]\tvalid_0's auc: 0.951987\n",
      "[307]\tvalid_0's auc: 0.952013\n",
      "[308]\tvalid_0's auc: 0.952004\n",
      "[309]\tvalid_0's auc: 0.95202\n",
      "[310]\tvalid_0's auc: 0.952039\n",
      "[311]\tvalid_0's auc: 0.952039\n",
      "[312]\tvalid_0's auc: 0.952096\n",
      "[313]\tvalid_0's auc: 0.952123\n",
      "[314]\tvalid_0's auc: 0.952092\n",
      "[315]\tvalid_0's auc: 0.952074\n",
      "[316]\tvalid_0's auc: 0.952106\n",
      "[317]\tvalid_0's auc: 0.952108\n",
      "[318]\tvalid_0's auc: 0.952122\n",
      "[319]\tvalid_0's auc: 0.952136\n",
      "[320]\tvalid_0's auc: 0.952142\n",
      "[321]\tvalid_0's auc: 0.952177\n",
      "[322]\tvalid_0's auc: 0.952176\n",
      "[323]\tvalid_0's auc: 0.952195\n",
      "[324]\tvalid_0's auc: 0.952199\n",
      "[325]\tvalid_0's auc: 0.952218\n",
      "[326]\tvalid_0's auc: 0.952225\n",
      "[327]\tvalid_0's auc: 0.9522\n",
      "[328]\tvalid_0's auc: 0.952199\n",
      "[329]\tvalid_0's auc: 0.95219\n",
      "[330]\tvalid_0's auc: 0.952168\n",
      "[331]\tvalid_0's auc: 0.952195\n",
      "[332]\tvalid_0's auc: 0.952196\n",
      "[333]\tvalid_0's auc: 0.9522\n",
      "[334]\tvalid_0's auc: 0.952164\n",
      "[335]\tvalid_0's auc: 0.952206\n",
      "[336]\tvalid_0's auc: 0.952232\n",
      "[337]\tvalid_0's auc: 0.952233\n",
      "[338]\tvalid_0's auc: 0.952255\n",
      "[339]\tvalid_0's auc: 0.952238\n",
      "[340]\tvalid_0's auc: 0.952253\n",
      "[341]\tvalid_0's auc: 0.952277\n",
      "[342]\tvalid_0's auc: 0.952287\n",
      "[343]\tvalid_0's auc: 0.952311\n",
      "[344]\tvalid_0's auc: 0.952277\n",
      "[345]\tvalid_0's auc: 0.952288\n",
      "[346]\tvalid_0's auc: 0.95231\n",
      "[347]\tvalid_0's auc: 0.952335\n",
      "[348]\tvalid_0's auc: 0.952322\n",
      "[349]\tvalid_0's auc: 0.952362\n",
      "[350]\tvalid_0's auc: 0.952391\n",
      "[351]\tvalid_0's auc: 0.952428\n",
      "[352]\tvalid_0's auc: 0.952413\n",
      "[353]\tvalid_0's auc: 0.952424\n",
      "[354]\tvalid_0's auc: 0.952457\n",
      "[355]\tvalid_0's auc: 0.952446\n",
      "[356]\tvalid_0's auc: 0.952416\n",
      "[357]\tvalid_0's auc: 0.952426\n",
      "[358]\tvalid_0's auc: 0.952427\n",
      "[359]\tvalid_0's auc: 0.952447\n",
      "[360]\tvalid_0's auc: 0.952462\n",
      "[361]\tvalid_0's auc: 0.952429\n",
      "[362]\tvalid_0's auc: 0.952467\n",
      "[363]\tvalid_0's auc: 0.95245\n",
      "[364]\tvalid_0's auc: 0.952477\n",
      "[365]\tvalid_0's auc: 0.952487\n",
      "[366]\tvalid_0's auc: 0.952494\n",
      "[367]\tvalid_0's auc: 0.95251\n",
      "[368]\tvalid_0's auc: 0.952522\n",
      "[369]\tvalid_0's auc: 0.952565\n",
      "[370]\tvalid_0's auc: 0.952594\n",
      "[371]\tvalid_0's auc: 0.952574\n",
      "[372]\tvalid_0's auc: 0.952563\n",
      "[373]\tvalid_0's auc: 0.952584\n",
      "[374]\tvalid_0's auc: 0.952599\n",
      "[375]\tvalid_0's auc: 0.952566\n",
      "[376]\tvalid_0's auc: 0.952586\n",
      "[377]\tvalid_0's auc: 0.952615\n",
      "[378]\tvalid_0's auc: 0.952634\n",
      "[379]\tvalid_0's auc: 0.952649\n",
      "[380]\tvalid_0's auc: 0.952659\n",
      "[381]\tvalid_0's auc: 0.952703\n",
      "[382]\tvalid_0's auc: 0.952709\n",
      "[383]\tvalid_0's auc: 0.952705\n",
      "[384]\tvalid_0's auc: 0.952717\n",
      "[385]\tvalid_0's auc: 0.952736\n",
      "[386]\tvalid_0's auc: 0.952755\n",
      "[387]\tvalid_0's auc: 0.952764\n",
      "[388]\tvalid_0's auc: 0.952767\n",
      "[389]\tvalid_0's auc: 0.952798\n",
      "[390]\tvalid_0's auc: 0.952804\n",
      "[391]\tvalid_0's auc: 0.952807\n",
      "[392]\tvalid_0's auc: 0.952838\n",
      "[393]\tvalid_0's auc: 0.952832\n",
      "[394]\tvalid_0's auc: 0.952838\n",
      "[395]\tvalid_0's auc: 0.952856\n",
      "[396]\tvalid_0's auc: 0.952841\n",
      "[397]\tvalid_0's auc: 0.952825\n",
      "[398]\tvalid_0's auc: 0.952824\n",
      "[399]\tvalid_0's auc: 0.952817\n",
      "[400]\tvalid_0's auc: 0.95281\n",
      "[401]\tvalid_0's auc: 0.952829\n",
      "[402]\tvalid_0's auc: 0.952838\n",
      "[403]\tvalid_0's auc: 0.952849\n",
      "[404]\tvalid_0's auc: 0.952824\n",
      "[405]\tvalid_0's auc: 0.952835\n",
      "[406]\tvalid_0's auc: 0.952841\n",
      "[407]\tvalid_0's auc: 0.952841\n",
      "[408]\tvalid_0's auc: 0.952889\n",
      "[409]\tvalid_0's auc: 0.952896\n",
      "[410]\tvalid_0's auc: 0.952885\n",
      "[411]\tvalid_0's auc: 0.952895\n",
      "[412]\tvalid_0's auc: 0.952901\n",
      "[413]\tvalid_0's auc: 0.952911\n",
      "[414]\tvalid_0's auc: 0.952924\n",
      "[415]\tvalid_0's auc: 0.952944\n",
      "[416]\tvalid_0's auc: 0.952945\n",
      "[417]\tvalid_0's auc: 0.952965\n",
      "[418]\tvalid_0's auc: 0.952973\n",
      "[419]\tvalid_0's auc: 0.952992\n",
      "[420]\tvalid_0's auc: 0.952991\n",
      "[421]\tvalid_0's auc: 0.952979\n",
      "[422]\tvalid_0's auc: 0.953009\n",
      "[423]\tvalid_0's auc: 0.952992\n",
      "[424]\tvalid_0's auc: 0.952979\n",
      "[425]\tvalid_0's auc: 0.952991\n",
      "[426]\tvalid_0's auc: 0.952993\n",
      "[427]\tvalid_0's auc: 0.953011\n",
      "[428]\tvalid_0's auc: 0.953006\n",
      "[429]\tvalid_0's auc: 0.953015\n",
      "[430]\tvalid_0's auc: 0.95299\n",
      "[431]\tvalid_0's auc: 0.95299\n",
      "[432]\tvalid_0's auc: 0.953008\n",
      "[433]\tvalid_0's auc: 0.953012\n",
      "[434]\tvalid_0's auc: 0.953027\n",
      "[435]\tvalid_0's auc: 0.95304\n",
      "[436]\tvalid_0's auc: 0.953068\n",
      "[437]\tvalid_0's auc: 0.953053\n",
      "[438]\tvalid_0's auc: 0.953058\n",
      "[439]\tvalid_0's auc: 0.953044\n",
      "[440]\tvalid_0's auc: 0.95304\n",
      "[441]\tvalid_0's auc: 0.953031\n",
      "[442]\tvalid_0's auc: 0.953044\n",
      "[443]\tvalid_0's auc: 0.95305\n",
      "[444]\tvalid_0's auc: 0.953058\n",
      "[445]\tvalid_0's auc: 0.953059\n",
      "[446]\tvalid_0's auc: 0.953058\n",
      "[447]\tvalid_0's auc: 0.953075\n",
      "[448]\tvalid_0's auc: 0.953071\n",
      "[449]\tvalid_0's auc: 0.953075\n",
      "[450]\tvalid_0's auc: 0.953076\n",
      "[451]\tvalid_0's auc: 0.953078\n",
      "[452]\tvalid_0's auc: 0.953088\n",
      "[453]\tvalid_0's auc: 0.953055\n",
      "[454]\tvalid_0's auc: 0.953098\n",
      "[455]\tvalid_0's auc: 0.953099\n",
      "[456]\tvalid_0's auc: 0.953091\n",
      "[457]\tvalid_0's auc: 0.953082\n",
      "[458]\tvalid_0's auc: 0.953107\n",
      "[459]\tvalid_0's auc: 0.953102\n",
      "[460]\tvalid_0's auc: 0.953079\n",
      "[461]\tvalid_0's auc: 0.953088\n",
      "[462]\tvalid_0's auc: 0.953097\n",
      "[463]\tvalid_0's auc: 0.953101\n",
      "[464]\tvalid_0's auc: 0.953092\n",
      "[465]\tvalid_0's auc: 0.953103\n",
      "[466]\tvalid_0's auc: 0.953105\n",
      "[467]\tvalid_0's auc: 0.953087\n",
      "[468]\tvalid_0's auc: 0.953092\n",
      "[469]\tvalid_0's auc: 0.953116\n",
      "[470]\tvalid_0's auc: 0.953105\n",
      "[471]\tvalid_0's auc: 0.95311\n",
      "[472]\tvalid_0's auc: 0.953104\n",
      "[473]\tvalid_0's auc: 0.9531\n",
      "[474]\tvalid_0's auc: 0.95308\n",
      "[475]\tvalid_0's auc: 0.953119\n",
      "[476]\tvalid_0's auc: 0.953107\n",
      "[477]\tvalid_0's auc: 0.953111\n",
      "[478]\tvalid_0's auc: 0.953104\n",
      "[479]\tvalid_0's auc: 0.953097\n",
      "[480]\tvalid_0's auc: 0.953098\n",
      "[481]\tvalid_0's auc: 0.953133\n",
      "[482]\tvalid_0's auc: 0.953146\n",
      "[483]\tvalid_0's auc: 0.953133\n",
      "[484]\tvalid_0's auc: 0.953177\n",
      "[485]\tvalid_0's auc: 0.953186\n",
      "[486]\tvalid_0's auc: 0.953201\n",
      "[487]\tvalid_0's auc: 0.953216\n",
      "[488]\tvalid_0's auc: 0.95321\n",
      "[489]\tvalid_0's auc: 0.953233\n",
      "[490]\tvalid_0's auc: 0.953244\n",
      "[491]\tvalid_0's auc: 0.95326\n",
      "[492]\tvalid_0's auc: 0.95329\n",
      "[493]\tvalid_0's auc: 0.95329\n",
      "[494]\tvalid_0's auc: 0.953296\n",
      "[495]\tvalid_0's auc: 0.953315\n",
      "[496]\tvalid_0's auc: 0.953312\n",
      "[497]\tvalid_0's auc: 0.953321\n",
      "[498]\tvalid_0's auc: 0.953332\n",
      "[499]\tvalid_0's auc: 0.953348\n",
      "[500]\tvalid_0's auc: 0.953342\n"
     ]
    }
   ],
   "source": [
    "param = {'num_leaves':80, 'num_iterations':500, 'objective':'binary'}\n",
    "param['metric'] = 'auc'\n",
    "num_round = 30\n",
    "bst = lgb.train(param, train_lgbdata, num_round, valid_sets=[test_lgbdata])"
   ]
  },
  {
   "cell_type": "code",
   "execution_count": 162,
   "metadata": {
    "collapsed": false
   },
   "outputs": [
    {
     "data": {
      "text/plain": [
       "0.88292000000000004"
      ]
     },
     "execution_count": 162,
     "metadata": {},
     "output_type": "execute_result"
    }
   ],
   "source": [
    "from sklearn.metrics import accuracy_score\n",
    "ypred = bst.predict(X_test) > 0.5\n",
    "accuracy_score(ypred, test_labels)"
   ]
  },
  {
   "cell_type": "markdown",
   "metadata": {},
   "source": [
    "### TfIdf+Unigram+bigram+trigram"
   ]
  },
  {
   "cell_type": "code",
   "execution_count": 26,
   "metadata": {
    "collapsed": true
   },
   "outputs": [],
   "source": [
    "from sklearn.feature_extraction.text import TfidfVectorizer\n",
    "vectorizer = TfidfVectorizer(min_df=5, max_df=0.5, ngram_range=(1, 3))\n",
    "X_train = vectorizer.fit_transform(train_texts)\n",
    "X_test = vectorizer.transform(test_texts)"
   ]
  },
  {
   "cell_type": "code",
   "execution_count": 27,
   "metadata": {
    "collapsed": true
   },
   "outputs": [],
   "source": [
    "from sklearn.linear_model import LogisticRegression\n",
    "train_accuracy = []\n",
    "test_accuracy = []\n",
    "parameters = np.arange(0.5, 3, 0.5)\n",
    "for c in parameters:\n",
    "    classifier = LogisticRegression(C=c)\n",
    "    classifier.fit(X_train, train_labels)\n",
    "    train_score = classifier.score(X_train, train_labels)\n",
    "    test_score = classifier.score(X_test, test_labels)\n",
    "    train_accuracy.append(train_score)\n",
    "    test_accuracy.append(test_score)"
   ]
  },
  {
   "cell_type": "code",
   "execution_count": 28,
   "metadata": {
    "collapsed": false
   },
   "outputs": [
    {
     "data": {
      "text/plain": [
       "0.90112000000000003"
      ]
     },
     "execution_count": 28,
     "metadata": {},
     "output_type": "execute_result"
    }
   ],
   "source": [
    "max(test_accuracy)"
   ]
  },
  {
   "cell_type": "code",
   "execution_count": null,
   "metadata": {
    "collapsed": false
   },
   "outputs": [
    {
     "data": {
      "image/png": "[encoded data removed]",
      "text/plain": [
       "<Figure size 432x288 with 1 Axes>"
      ]
     },
     "metadata": {},
     "output_type": "display_data"
    }
   ],
   "source": [
    "plt.scatter(parameters, train_accuracy, c='r')\n",
    "plt.scatter(parameters, test_accuracy, c='b')\n",
    "plt.title('Training and Testing Performances for LR')\n",
    "plt.xlabel('C')\n",
    "plt.ylabel('Accuracy')\n",
    "plt.ylim([0.8, 1])\n",
    "plt.show()"
   ]
  },
  {
   "cell_type": "code",
   "execution_count": null,
   "metadata": {
    "collapsed": true
   },
   "outputs": [],
   "source": [
    "from sklearn.svm import SVC\n",
    "train_accuracy = []\n",
    "test_accuracy = []\n",
    "parameters = np.arange(1, 3, 0.5)\n",
    "for c in parameters:\n",
    "    classifier = SVC(C=c)\n",
    "    classifier.fit(X_train, train_labels)\n",
    "    train_score = classifier.score(X_train, train_labels)\n",
    "    test_score = classifier.score(X_test, test_labels)\n",
    "    train_accuracy.append(train_score)\n",
    "    test_accuracy.append(test_score)"
   ]
  },
  {
   "cell_type": "code",
   "execution_count": null,
   "metadata": {
    "collapsed": true
   },
   "outputs": [],
   "source": [
    "max(test_accuracy)"
   ]
  },
  {
   "cell_type": "code",
   "execution_count": null,
   "metadata": {
    "collapsed": true
   },
   "outputs": [],
   "source": []
  }
 ],
 "metadata": {
  "kernelspec": {
   "display_name": "Python 3",
   "language": "python",
   "name": "python3"
  },
  "language_info": {
   "codemirror_mode": {
    "name": "ipython",
    "version": 3
   },
   "file_extension": ".py",
   "mimetype": "text/x-python",
   "name": "python",
   "nbconvert_exporter": "python",
   "pygments_lexer": "ipython3",
   "version": "3.6.0"
  }
 },
 "nbformat": 4,
 "nbformat_minor": 2
}
